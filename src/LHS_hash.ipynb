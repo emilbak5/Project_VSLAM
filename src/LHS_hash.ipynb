{
 "cells": [
  {
   "cell_type": "code",
   "execution_count": 11,
   "metadata": {},
   "outputs": [],
   "source": [
    "a = \"flying fish flew by the space station\"\n",
    "b = \"he will not allow you to bring your sticks of dynamite and pet armadillo along\"\n",
    "c = \"he figured a few sticks of dynamite were easier than a fishing pole to catch an armadillo\""
   ]
  },
  {
   "cell_type": "code",
   "execution_count": 12,
   "metadata": {},
   "outputs": [
    {
     "name": "stdout",
     "output_type": "stream",
     "text": [
      "fl|ly|yi|in|ng|g | f|fi|is|sh|h | f|fl|le|ew|w | b|by|y | t|th|he|e | s|sp|pa|ac|ce|e | s|st|ta|at|ti|io|on|"
     ]
    }
   ],
   "source": [
    "k = 2\n",
    "for i in range(len(a) - k+1):\n",
    "    print(a[i: i+k], end='|')"
   ]
  },
  {
   "cell_type": "code",
   "execution_count": 13,
   "metadata": {},
   "outputs": [],
   "source": [
    "def shingle(text: str, k: int):\n",
    "    shingle_set = []\n",
    "    for i in range(len(text) - k+1):\n",
    "        shingle_set.append(text[i:i+k])\n",
    "    return set(shingle_set)"
   ]
  },
  {
   "cell_type": "code",
   "execution_count": 14,
   "metadata": {},
   "outputs": [
    {
     "name": "stdout",
     "output_type": "stream",
     "text": [
      "{'ce', ' s', ' f', 'pa', ' t', 'le', 'ti', 'th', 'y ', 'sh', 'in', 'g ', 'st', 'at', 'sp', 'e ', 'fl', 'h ', 'w ', 'ta', 'on', 'ng', 'ac', 'fi', 'io', 'is', 'ly', 'he', ' b', 'yi', 'by', 'ew'}\n"
     ]
    }
   ],
   "source": [
    "a = shingle(a, k)\n",
    "b = shingle(b, k)\n",
    "c = shingle(c, k)\n",
    "print(a)"
   ]
  },
  {
   "cell_type": "code",
   "execution_count": 15,
   "metadata": {},
   "outputs": [
    {
     "name": "stdout",
     "output_type": "stream",
     "text": [
      "['l ', 'ad', 'le', ' n', 'ck', 'ow', 's ', 'st', 'as', 'sp', 'fl', 'h ', 'fi', 'io', 'ou', 'it', 'nd', 'is', ' y', 'we', ' s', 'wi', ' f', 'pa', 'ti', 'sh', 't ', 'at', 'll', 'fe', 'e ', 'ha', 'ri', 'ca', 'br', 'ng', 'gu', 'he', ' e', 'et', 'er', 'by', 'ie', 'no', 'd ', 'am', 'th', 'po', 'lo', 'ot', 'na', 'ch', 'in', 'ed', 'te', 'ks', ' p', 'ar', 'n ', 'f ', 'rm', 'hi', 'al', 'ac', 'r ', 'an', 'ly', 'mi', ' b', 'ur', 'ic', ' c', ' d', 'ew', 'of', 'ce', 'yo', ' a', ' t', 'o ', 'tc', 'y ', 'pe', 'ma', 'a ', 'di', 'g ', 'dy', 're', 'ig', 'to', 'u ', 'il', 'w ', 'ol', 'ta', 'on', 'si', 'yn', ' w', ' o', 'ea', 'yi']\n"
     ]
    }
   ],
   "source": [
    "vocab = list(a.union(b).union(c))\n",
    "print(vocab)"
   ]
  },
  {
   "cell_type": "code",
   "execution_count": 16,
   "metadata": {},
   "outputs": [
    {
     "name": "stdout",
     "output_type": "stream",
     "text": [
      "[0, 0, 1, 0, 0, 0, 0, 1, 0, 1, 1, 1, 1, 1, 0, 0, 0, 1, 0, 0, 1, 0, 1, 1, 1, 1, 0, 1, 0, 0, 1, 0, 0, 0, 0, 1, 0, 1, 0, 0, 0, 1, 0, 0, 0, 0, 1, 0, 0, 0, 0, 0, 1, 0, 0, 0, 0, 0, 0, 0, 0, 0, 0, 1, 0, 0, 1, 0, 1, 0, 0, 0, 0, 1, 0, 1, 0, 0, 1, 0, 0, 1, 0, 0, 0, 0, 1, 0, 0, 0, 0, 0, 0, 1, 0, 1, 1, 0, 0, 0, 0, 0, 1]\n"
     ]
    }
   ],
   "source": [
    "a_1hot = [1 if x in a else 0 for x in vocab]\n",
    "b_1hot = [1 if x in b else 0 for x in vocab]\n",
    "c_1hot = [1 if x in c else 0 for x in vocab]\n",
    "print(a_1hot)"
   ]
  },
  {
   "cell_type": "code",
   "execution_count": 17,
   "metadata": {},
   "outputs": [
    {
     "name": "stdout",
     "output_type": "stream",
     "text": [
      "[1, 2, 3, 4, 5, 6, 7, 8, 9, 10, 11, 12, 13, 14, 15, 16, 17, 18, 19, 20, 21, 22, 23, 24, 25, 26, 27, 28, 29, 30, 31, 32, 33, 34, 35, 36, 37, 38, 39, 40, 41, 42, 43, 44, 45, 46, 47, 48, 49, 50, 51, 52, 53, 54, 55, 56, 57, 58, 59, 60, 61, 62, 63, 64, 65, 66, 67, 68, 69, 70, 71, 72, 73, 74, 75, 76, 77, 78, 79, 80, 81, 82, 83, 84, 85, 86, 87, 88, 89, 90, 91, 92, 93, 94, 95, 96, 97, 98, 99, 100, 101, 102, 103]\n"
     ]
    }
   ],
   "source": [
    "hash_ex = list(range(1, len(vocab)+1))\n",
    "print(hash_ex)  # we haven't shuffled yet"
   ]
  },
  {
   "cell_type": "code",
   "execution_count": 18,
   "metadata": {},
   "outputs": [
    {
     "name": "stdout",
     "output_type": "stream",
     "text": [
      "[33, 46, 17, 5, 22, 77, 94, 10, 53, 26, 2, 82, 27, 38, 11, 87, 83, 62, 78, 42, 40, 72, 24, 71, 99, 50, 4, 86, 80, 64, 57, 69, 74, 88, 35, 90, 81, 15, 68, 49, 14, 79, 92, 76, 66, 34, 73, 75, 48, 37, 91, 52, 7, 55, 29, 44, 95, 23, 28, 59, 18, 96, 101, 31, 47, 45, 6, 19, 60, 97, 16, 43, 103, 89, 70, 63, 13, 67, 84, 93, 102, 3, 54, 25, 85, 8, 21, 56, 98, 51, 1, 41, 9, 100, 32, 20, 12, 30, 61, 58, 39, 36, 65]\n"
     ]
    }
   ],
   "source": [
    "from random import shuffle\n",
    "\n",
    "shuffle(hash_ex)\n",
    "print(hash_ex)"
   ]
  },
  {
   "cell_type": "code",
   "execution_count": 19,
   "metadata": {},
   "outputs": [
    {
     "name": "stdout",
     "output_type": "stream",
     "text": [
      "1 -> 90\n",
      "2 -> 10\n",
      "3 -> 81\n",
      "4 -> 26\n"
     ]
    }
   ],
   "source": [
    "for i in range(1, 5):\n",
    "    print(f\"{i} -> {hash_ex.index(i)}\")"
   ]
  },
  {
   "cell_type": "code",
   "execution_count": 20,
   "metadata": {},
   "outputs": [
    {
     "name": "stdout",
     "output_type": "stream",
     "text": [
      "1 -> 90 -> 0\n",
      "2 -> 10 -> 1\n",
      "match!\n"
     ]
    }
   ],
   "source": [
    "for i in range(1, len(vocab)+1):\n",
    "    idx = hash_ex.index(i)\n",
    "    signature_val = a_1hot[idx]\n",
    "    print(f\"{i} -> {idx} -> {signature_val}\")\n",
    "    if signature_val == 1:\n",
    "        print('match!')\n",
    "        break"
   ]
  },
  {
   "cell_type": "code",
   "execution_count": 21,
   "metadata": {},
   "outputs": [
    {
     "name": "stdout",
     "output_type": "stream",
     "text": [
      "hash function 1:\n",
      "[6, 19, 25, 2, 92, 75, 52, 72, 12, 17, 23, 55, 26, 66, 61, 81, 102, 98, 90, 63, 37, 4, 95, 11, 100, 97, 70, 50, 64, 14, 9, 41, 65, 7, 60, 59, 31, 49, 62, 103, 20, 79, 93, 74, 86, 76, 85, 54, 89, 46, 24, 94, 47, 16, 34, 48, 91, 53, 99, 28, 68, 35, 88, 36, 22, 43, 51, 80, 78, 42, 57, 69, 18, 39, 87, 67, 38, 58, 13, 33, 84, 101, 3, 5, 8, 71, 73, 77, 21, 1, 56, 40, 15, 44, 27, 32, 96, 10, 82, 83, 30, 29, 45]\n",
      "hash function 2:\n",
      "[26, 95, 77, 12, 14, 68, 2, 1, 80, 65, 25, 5, 79, 24, 53, 20, 101, 39, 83, 31, 90, 85, 52, 60, 84, 103, 62, 44, 58, 15, 50, 6, 42, 43, 19, 74, 100, 102, 16, 49, 34, 22, 7, 97, 89, 88, 78, 96, 46, 99, 82, 41, 76, 75, 63, 59, 64, 87, 47, 93, 86, 51, 23, 3, 11, 70, 17, 10, 28, 72, 21, 94, 92, 9, 13, 69, 81, 38, 66, 4, 91, 48, 71, 29, 56, 73, 40, 67, 55, 37, 18, 33, 45, 57, 30, 36, 35, 61, 32, 54, 8, 98, 27]\n",
      "hash function 3:\n",
      "[60, 43, 101, 67, 73, 14, 45, 54, 72, 63, 4, 8, 61, 52, 82, 48, 93, 97, 94, 16, 92, 12, 50, 56, 7, 44, 68, 66, 38, 28, 47, 79, 24, 17, 74, 36, 87, 53, 62, 57, 41, 88, 2, 42, 64, 103, 100, 98, 9, 15, 76, 32, 83, 86, 51, 26, 10, 19, 29, 96, 5, 69, 71, 58, 77, 18, 102, 65, 30, 35, 89, 33, 95, 31, 20, 11, 70, 91, 37, 55, 78, 84, 23, 3, 27, 85, 59, 49, 34, 22, 75, 21, 81, 39, 40, 1, 90, 99, 80, 46, 25, 6, 13]\n"
     ]
    }
   ],
   "source": [
    "hash_funcs = []\n",
    "\n",
    "for _ in range(20):\n",
    "    hash_ex = list(range(1, len(vocab)+1))\n",
    "    shuffle(hash_ex)\n",
    "    hash_funcs.append(hash_ex)\n",
    "\n",
    "for i in range(3):\n",
    "    print(f\"hash function {i+1}:\")\n",
    "    print(hash_funcs[i])"
   ]
  },
  {
   "cell_type": "code",
   "execution_count": 22,
   "metadata": {},
   "outputs": [
    {
     "name": "stdout",
     "output_type": "stream",
     "text": [
      "[30, 7, 95, 75, 11, 11, 75, 68, 86, 46, 66, 17, 95, 23, 86, 41, 7, 10, 96, 52]\n"
     ]
    }
   ],
   "source": [
    "signature = []\n",
    "\n",
    "for func in hash_funcs:\n",
    "    for i in range(1, len(vocab)+1):\n",
    "        idx = func.index(i)\n",
    "        signature_val = a_1hot[idx]\n",
    "        if signature_val == 1:\n",
    "            signature.append(idx)\n",
    "            break\n",
    "\n",
    "print(signature)"
   ]
  },
  {
   "cell_type": "code",
   "execution_count": 23,
   "metadata": {},
   "outputs": [],
   "source": [
    "def create_hash_func(size: int):\n",
    "    # function for creating the hash vector/function\n",
    "    hash_ex = list(range(1, len(vocab)+1))\n",
    "    shuffle(hash_ex)\n",
    "    return hash_ex\n",
    "\n",
    "def build_minhash_func(vocab_size: int, nbits: int):\n",
    "    # function for building multiple minhash vectors\n",
    "    hashes = []\n",
    "    for _ in range(nbits):\n",
    "        hashes.append(create_hash_func(vocab_size))\n",
    "    return hashes\n",
    "\n",
    "# we create 20 minhash vectors\n",
    "minhash_func = build_minhash_func(len(vocab), 20)"
   ]
  },
  {
   "cell_type": "code",
   "execution_count": 24,
   "metadata": {},
   "outputs": [],
   "source": [
    "def create_hash(vector: list):\n",
    "    # use this function for creating our signatures (eg the matching)\n",
    "    signature = []\n",
    "    for func in minhash_func:\n",
    "        for i in range(1, len(vocab)+1):\n",
    "            idx = func.index(i)\n",
    "            signature_val = vector[idx]\n",
    "            if signature_val == 1:\n",
    "                signature.append(idx)\n",
    "                break\n",
    "    return signature"
   ]
  },
  {
   "cell_type": "code",
   "execution_count": 25,
   "metadata": {},
   "outputs": [
    {
     "name": "stdout",
     "output_type": "stream",
     "text": [
      "[68, 96, 17, 17, 30, 63, 17, 12, 63, 10, 23, 37, 86, 11, 52, 27, 68, 41, 7, 27]\n",
      "[68, 91, 5, 99, 28, 59, 15, 54, 99, 74, 86, 37, 21, 70, 98, 64, 59, 26, 65, 55]\n"
     ]
    }
   ],
   "source": [
    "a_sig = create_hash(a_1hot)\n",
    "b_sig = create_hash(b_1hot)\n",
    "c_sig = create_hash(c_1hot)\n",
    "\n",
    "print(a_sig)\n",
    "print(b_sig)"
   ]
  },
  {
   "cell_type": "code",
   "execution_count": 26,
   "metadata": {},
   "outputs": [],
   "source": [
    "def jaccard(a: set, b: set):\n",
    "    return len(a.intersection(b)) / len(a.union(b))"
   ]
  },
  {
   "cell_type": "code",
   "execution_count": 27,
   "metadata": {},
   "outputs": [
    {
     "data": {
      "text/plain": [
       "(0.22093023255813954, 0.06896551724137931)"
      ]
     },
     "execution_count": 27,
     "metadata": {},
     "output_type": "execute_result"
    }
   ],
   "source": [
    "jaccard(a, c), jaccard(set(a_sig), set(c_sig))"
   ]
  }
 ],
 "metadata": {
  "interpreter": {
   "hash": "c49e551b880c9cb56e9a73fdc9a52bef3b4f7e51e9c285f2472ea5712cb6df5b"
  },
  "kernelspec": {
   "display_name": "Python 3.9.2 64-bit",
   "language": "python",
   "name": "python3"
  },
  "language_info": {
   "codemirror_mode": {
    "name": "ipython",
    "version": 3
   },
   "file_extension": ".py",
   "mimetype": "text/x-python",
   "name": "python",
   "nbconvert_exporter": "python",
   "pygments_lexer": "ipython3",
   "version": "3.9.2"
  },
  "orig_nbformat": 4
 },
 "nbformat": 4,
 "nbformat_minor": 2
}
